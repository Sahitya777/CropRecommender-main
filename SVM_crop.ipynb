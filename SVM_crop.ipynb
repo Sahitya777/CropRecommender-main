{
  "nbformat": 4,
  "nbformat_minor": 0,
  "metadata": {
    "colab": {
      "name": "SVM crop.ipynb",
      "provenance": []
    },
    "kernelspec": {
      "name": "python3",
      "display_name": "Python 3"
    },
    "language_info": {
      "name": "python"
    }
  },
  "cells": [
    {
      "cell_type": "code",
      "execution_count": 4,
      "metadata": {
        "colab": {
          "base_uri": "https://localhost:8080/"
        },
        "id": "SCCiy06DBBXb",
        "outputId": "5f0197d4-3da6-4d47-8368-abab5eb42927"
      },
      "outputs": [
        {
          "output_type": "stream",
          "name": "stderr",
          "text": [
            "/usr/local/lib/python3.7/dist-packages/statsmodels/tools/_testing.py:19: FutureWarning: pandas.util.testing is deprecated. Use the functions in the public API at pandas.testing instead.\n",
            "  import pandas.util.testing as tm\n"
          ]
        }
      ],
      "source": [
        "from tensorflow.keras import datasets \n",
        "import matplotlib.pyplot as plt\n",
        "import numpy as np\n",
        "import pandas as pd\n",
        "import seaborn as sns\n",
        "import warnings\n",
        "plt.style.use('seaborn')\n",
        "import statsmodels.api as sm\n",
        "import tensorflow as tf\n",
        "from sklearn.model_selection import train_test_split\n",
        "from sklearn import svm, datasets\n",
        "import sklearn.model_selection as model_selection\n",
        "from sklearn.metrics import accuracy_score\n",
        "from sklearn.metrics import f1_score"
      ]
    },
    {
      "cell_type": "code",
      "source": [
        "df = pd.read_csv(\"crop_pred.csv\")\n",
        "\n",
        "X = df[['pH', 'EC', 'OC', 'N', 'P', 'K', 'S', 'Ca', 'Mg', 'Zn', 'Cu',\n",
        "       'Fe', 'Mn', 'B', 'Mo']]\n",
        "y = df['label']"
      ],
      "metadata": {
        "id": "4SdoFzsbCi8F"
      },
      "execution_count": 6,
      "outputs": []
    },
    {
      "cell_type": "code",
      "source": [
        "X = (X - X.mean())/X.std()\n",
        "X"
      ],
      "metadata": {
        "colab": {
          "base_uri": "https://localhost:8080/",
          "height": 488
        },
        "id": "c1GS3MajDQk8",
        "outputId": "ba9a0507-cac9-477f-d291-9c793393304d"
      },
      "execution_count": 7,
      "outputs": [
        {
          "output_type": "execute_result",
          "data": {
            "text/plain": [
              "           pH        EC        OC         N         P         K         S  \\\n",
              "0    2.026111 -0.717308 -1.150266 -0.707827  0.251631  0.989334 -0.940037   \n",
              "1    0.576584 -0.891618 -1.371417 -1.097930 -0.263046 -0.697078 -0.933532   \n",
              "2   -1.727792 -0.911258 -1.616023 -0.902879 -0.288866 -1.071160 -0.936790   \n",
              "3   -0.959667 -0.707488 -0.315923 -0.610340 -0.331899 -0.032549 -0.933532   \n",
              "4    0.997814 -0.700123 -0.170165 -0.805392  0.326509  0.121037 -0.933532   \n",
              "..        ...       ...       ...       ...       ...       ...       ...   \n",
              "855 -0.092429  0.731177  2.488673  2.215923 -1.324675 -0.456813 -0.122458   \n",
              "856 -0.947278  0.338367  0.583759  1.879306 -1.152112 -1.042267 -0.447097   \n",
              "857 -0.414546  0.461120  2.019565  1.884593 -1.273466 -0.913772 -0.372180   \n",
              "858 -0.538437  0.362918  0.057688  1.881949 -1.069488 -0.642334 -0.272291   \n",
              "859 -0.352600  0.461120  2.049722  1.941188 -1.134899 -0.619524 -0.497042   \n",
              "\n",
              "           Ca        Mg        Zn        Cu        Fe        Mn         B  \\\n",
              "0    1.172686  0.003811 -0.314595 -0.589935 -0.977992 -0.886743 -0.308066   \n",
              "1    0.749718  0.102799 -0.380138 -0.577238 -0.747099 -0.624629 -0.308066   \n",
              "2    0.918905  0.449259  0.019673 -0.577746  0.246949  1.108133 -0.308066   \n",
              "3    0.622827  1.142179  1.625470 -0.568096 -0.065830 -0.081678 -0.308066   \n",
              "4    1.299577 -0.243661  2.985483 -0.569112 -0.672595 -0.876445 -0.334376   \n",
              "..        ...       ...       ...       ...       ...       ...       ...   \n",
              "855 -0.743361 -0.585192 -0.717683  1.609204 -0.557149 -0.974738  0.033964   \n",
              "856 -0.717983 -0.579542 -0.534164  3.536116 -0.048379 -0.974738 -0.095194   \n",
              "857 -0.756050 -0.584924 -0.639032  1.810326 -0.636350 -0.858659 -0.104762   \n",
              "858 -0.717983 -0.578985 -0.498115  3.281159 -0.754482 -0.858659  0.041139   \n",
              "859 -0.730672 -0.586244 -0.455512  3.073434 -0.849792 -0.916699 -0.104762   \n",
              "\n",
              "           Mo  \n",
              "0   -0.195383  \n",
              "1   -0.211145  \n",
              "2   -0.202388  \n",
              "3   -0.181372  \n",
              "4   -0.172615  \n",
              "..        ...  \n",
              "855 -0.121826  \n",
              "856 -0.139340  \n",
              "857 -0.106064  \n",
              "858 -0.139340  \n",
              "859 -0.106064  \n",
              "\n",
              "[860 rows x 15 columns]"
            ],
            "text/html": [
              "\n",
              "  <div id=\"df-37b07b14-1ff3-4bce-b77e-b0942140435e\">\n",
              "    <div class=\"colab-df-container\">\n",
              "      <div>\n",
              "<style scoped>\n",
              "    .dataframe tbody tr th:only-of-type {\n",
              "        vertical-align: middle;\n",
              "    }\n",
              "\n",
              "    .dataframe tbody tr th {\n",
              "        vertical-align: top;\n",
              "    }\n",
              "\n",
              "    .dataframe thead th {\n",
              "        text-align: right;\n",
              "    }\n",
              "</style>\n",
              "<table border=\"1\" class=\"dataframe\">\n",
              "  <thead>\n",
              "    <tr style=\"text-align: right;\">\n",
              "      <th></th>\n",
              "      <th>pH</th>\n",
              "      <th>EC</th>\n",
              "      <th>OC</th>\n",
              "      <th>N</th>\n",
              "      <th>P</th>\n",
              "      <th>K</th>\n",
              "      <th>S</th>\n",
              "      <th>Ca</th>\n",
              "      <th>Mg</th>\n",
              "      <th>Zn</th>\n",
              "      <th>Cu</th>\n",
              "      <th>Fe</th>\n",
              "      <th>Mn</th>\n",
              "      <th>B</th>\n",
              "      <th>Mo</th>\n",
              "    </tr>\n",
              "  </thead>\n",
              "  <tbody>\n",
              "    <tr>\n",
              "      <th>0</th>\n",
              "      <td>2.026111</td>\n",
              "      <td>-0.717308</td>\n",
              "      <td>-1.150266</td>\n",
              "      <td>-0.707827</td>\n",
              "      <td>0.251631</td>\n",
              "      <td>0.989334</td>\n",
              "      <td>-0.940037</td>\n",
              "      <td>1.172686</td>\n",
              "      <td>0.003811</td>\n",
              "      <td>-0.314595</td>\n",
              "      <td>-0.589935</td>\n",
              "      <td>-0.977992</td>\n",
              "      <td>-0.886743</td>\n",
              "      <td>-0.308066</td>\n",
              "      <td>-0.195383</td>\n",
              "    </tr>\n",
              "    <tr>\n",
              "      <th>1</th>\n",
              "      <td>0.576584</td>\n",
              "      <td>-0.891618</td>\n",
              "      <td>-1.371417</td>\n",
              "      <td>-1.097930</td>\n",
              "      <td>-0.263046</td>\n",
              "      <td>-0.697078</td>\n",
              "      <td>-0.933532</td>\n",
              "      <td>0.749718</td>\n",
              "      <td>0.102799</td>\n",
              "      <td>-0.380138</td>\n",
              "      <td>-0.577238</td>\n",
              "      <td>-0.747099</td>\n",
              "      <td>-0.624629</td>\n",
              "      <td>-0.308066</td>\n",
              "      <td>-0.211145</td>\n",
              "    </tr>\n",
              "    <tr>\n",
              "      <th>2</th>\n",
              "      <td>-1.727792</td>\n",
              "      <td>-0.911258</td>\n",
              "      <td>-1.616023</td>\n",
              "      <td>-0.902879</td>\n",
              "      <td>-0.288866</td>\n",
              "      <td>-1.071160</td>\n",
              "      <td>-0.936790</td>\n",
              "      <td>0.918905</td>\n",
              "      <td>0.449259</td>\n",
              "      <td>0.019673</td>\n",
              "      <td>-0.577746</td>\n",
              "      <td>0.246949</td>\n",
              "      <td>1.108133</td>\n",
              "      <td>-0.308066</td>\n",
              "      <td>-0.202388</td>\n",
              "    </tr>\n",
              "    <tr>\n",
              "      <th>3</th>\n",
              "      <td>-0.959667</td>\n",
              "      <td>-0.707488</td>\n",
              "      <td>-0.315923</td>\n",
              "      <td>-0.610340</td>\n",
              "      <td>-0.331899</td>\n",
              "      <td>-0.032549</td>\n",
              "      <td>-0.933532</td>\n",
              "      <td>0.622827</td>\n",
              "      <td>1.142179</td>\n",
              "      <td>1.625470</td>\n",
              "      <td>-0.568096</td>\n",
              "      <td>-0.065830</td>\n",
              "      <td>-0.081678</td>\n",
              "      <td>-0.308066</td>\n",
              "      <td>-0.181372</td>\n",
              "    </tr>\n",
              "    <tr>\n",
              "      <th>4</th>\n",
              "      <td>0.997814</td>\n",
              "      <td>-0.700123</td>\n",
              "      <td>-0.170165</td>\n",
              "      <td>-0.805392</td>\n",
              "      <td>0.326509</td>\n",
              "      <td>0.121037</td>\n",
              "      <td>-0.933532</td>\n",
              "      <td>1.299577</td>\n",
              "      <td>-0.243661</td>\n",
              "      <td>2.985483</td>\n",
              "      <td>-0.569112</td>\n",
              "      <td>-0.672595</td>\n",
              "      <td>-0.876445</td>\n",
              "      <td>-0.334376</td>\n",
              "      <td>-0.172615</td>\n",
              "    </tr>\n",
              "    <tr>\n",
              "      <th>...</th>\n",
              "      <td>...</td>\n",
              "      <td>...</td>\n",
              "      <td>...</td>\n",
              "      <td>...</td>\n",
              "      <td>...</td>\n",
              "      <td>...</td>\n",
              "      <td>...</td>\n",
              "      <td>...</td>\n",
              "      <td>...</td>\n",
              "      <td>...</td>\n",
              "      <td>...</td>\n",
              "      <td>...</td>\n",
              "      <td>...</td>\n",
              "      <td>...</td>\n",
              "      <td>...</td>\n",
              "    </tr>\n",
              "    <tr>\n",
              "      <th>855</th>\n",
              "      <td>-0.092429</td>\n",
              "      <td>0.731177</td>\n",
              "      <td>2.488673</td>\n",
              "      <td>2.215923</td>\n",
              "      <td>-1.324675</td>\n",
              "      <td>-0.456813</td>\n",
              "      <td>-0.122458</td>\n",
              "      <td>-0.743361</td>\n",
              "      <td>-0.585192</td>\n",
              "      <td>-0.717683</td>\n",
              "      <td>1.609204</td>\n",
              "      <td>-0.557149</td>\n",
              "      <td>-0.974738</td>\n",
              "      <td>0.033964</td>\n",
              "      <td>-0.121826</td>\n",
              "    </tr>\n",
              "    <tr>\n",
              "      <th>856</th>\n",
              "      <td>-0.947278</td>\n",
              "      <td>0.338367</td>\n",
              "      <td>0.583759</td>\n",
              "      <td>1.879306</td>\n",
              "      <td>-1.152112</td>\n",
              "      <td>-1.042267</td>\n",
              "      <td>-0.447097</td>\n",
              "      <td>-0.717983</td>\n",
              "      <td>-0.579542</td>\n",
              "      <td>-0.534164</td>\n",
              "      <td>3.536116</td>\n",
              "      <td>-0.048379</td>\n",
              "      <td>-0.974738</td>\n",
              "      <td>-0.095194</td>\n",
              "      <td>-0.139340</td>\n",
              "    </tr>\n",
              "    <tr>\n",
              "      <th>857</th>\n",
              "      <td>-0.414546</td>\n",
              "      <td>0.461120</td>\n",
              "      <td>2.019565</td>\n",
              "      <td>1.884593</td>\n",
              "      <td>-1.273466</td>\n",
              "      <td>-0.913772</td>\n",
              "      <td>-0.372180</td>\n",
              "      <td>-0.756050</td>\n",
              "      <td>-0.584924</td>\n",
              "      <td>-0.639032</td>\n",
              "      <td>1.810326</td>\n",
              "      <td>-0.636350</td>\n",
              "      <td>-0.858659</td>\n",
              "      <td>-0.104762</td>\n",
              "      <td>-0.106064</td>\n",
              "    </tr>\n",
              "    <tr>\n",
              "      <th>858</th>\n",
              "      <td>-0.538437</td>\n",
              "      <td>0.362918</td>\n",
              "      <td>0.057688</td>\n",
              "      <td>1.881949</td>\n",
              "      <td>-1.069488</td>\n",
              "      <td>-0.642334</td>\n",
              "      <td>-0.272291</td>\n",
              "      <td>-0.717983</td>\n",
              "      <td>-0.578985</td>\n",
              "      <td>-0.498115</td>\n",
              "      <td>3.281159</td>\n",
              "      <td>-0.754482</td>\n",
              "      <td>-0.858659</td>\n",
              "      <td>0.041139</td>\n",
              "      <td>-0.139340</td>\n",
              "    </tr>\n",
              "    <tr>\n",
              "      <th>859</th>\n",
              "      <td>-0.352600</td>\n",
              "      <td>0.461120</td>\n",
              "      <td>2.049722</td>\n",
              "      <td>1.941188</td>\n",
              "      <td>-1.134899</td>\n",
              "      <td>-0.619524</td>\n",
              "      <td>-0.497042</td>\n",
              "      <td>-0.730672</td>\n",
              "      <td>-0.586244</td>\n",
              "      <td>-0.455512</td>\n",
              "      <td>3.073434</td>\n",
              "      <td>-0.849792</td>\n",
              "      <td>-0.916699</td>\n",
              "      <td>-0.104762</td>\n",
              "      <td>-0.106064</td>\n",
              "    </tr>\n",
              "  </tbody>\n",
              "</table>\n",
              "<p>860 rows × 15 columns</p>\n",
              "</div>\n",
              "      <button class=\"colab-df-convert\" onclick=\"convertToInteractive('df-37b07b14-1ff3-4bce-b77e-b0942140435e')\"\n",
              "              title=\"Convert this dataframe to an interactive table.\"\n",
              "              style=\"display:none;\">\n",
              "        \n",
              "  <svg xmlns=\"http://www.w3.org/2000/svg\" height=\"24px\"viewBox=\"0 0 24 24\"\n",
              "       width=\"24px\">\n",
              "    <path d=\"M0 0h24v24H0V0z\" fill=\"none\"/>\n",
              "    <path d=\"M18.56 5.44l.94 2.06.94-2.06 2.06-.94-2.06-.94-.94-2.06-.94 2.06-2.06.94zm-11 1L8.5 8.5l.94-2.06 2.06-.94-2.06-.94L8.5 2.5l-.94 2.06-2.06.94zm10 10l.94 2.06.94-2.06 2.06-.94-2.06-.94-.94-2.06-.94 2.06-2.06.94z\"/><path d=\"M17.41 7.96l-1.37-1.37c-.4-.4-.92-.59-1.43-.59-.52 0-1.04.2-1.43.59L10.3 9.45l-7.72 7.72c-.78.78-.78 2.05 0 2.83L4 21.41c.39.39.9.59 1.41.59.51 0 1.02-.2 1.41-.59l7.78-7.78 2.81-2.81c.8-.78.8-2.07 0-2.86zM5.41 20L4 18.59l7.72-7.72 1.47 1.35L5.41 20z\"/>\n",
              "  </svg>\n",
              "      </button>\n",
              "      \n",
              "  <style>\n",
              "    .colab-df-container {\n",
              "      display:flex;\n",
              "      flex-wrap:wrap;\n",
              "      gap: 12px;\n",
              "    }\n",
              "\n",
              "    .colab-df-convert {\n",
              "      background-color: #E8F0FE;\n",
              "      border: none;\n",
              "      border-radius: 50%;\n",
              "      cursor: pointer;\n",
              "      display: none;\n",
              "      fill: #1967D2;\n",
              "      height: 32px;\n",
              "      padding: 0 0 0 0;\n",
              "      width: 32px;\n",
              "    }\n",
              "\n",
              "    .colab-df-convert:hover {\n",
              "      background-color: #E2EBFA;\n",
              "      box-shadow: 0px 1px 2px rgba(60, 64, 67, 0.3), 0px 1px 3px 1px rgba(60, 64, 67, 0.15);\n",
              "      fill: #174EA6;\n",
              "    }\n",
              "\n",
              "    [theme=dark] .colab-df-convert {\n",
              "      background-color: #3B4455;\n",
              "      fill: #D2E3FC;\n",
              "    }\n",
              "\n",
              "    [theme=dark] .colab-df-convert:hover {\n",
              "      background-color: #434B5C;\n",
              "      box-shadow: 0px 1px 3px 1px rgba(0, 0, 0, 0.15);\n",
              "      filter: drop-shadow(0px 1px 2px rgba(0, 0, 0, 0.3));\n",
              "      fill: #FFFFFF;\n",
              "    }\n",
              "  </style>\n",
              "\n",
              "      <script>\n",
              "        const buttonEl =\n",
              "          document.querySelector('#df-37b07b14-1ff3-4bce-b77e-b0942140435e button.colab-df-convert');\n",
              "        buttonEl.style.display =\n",
              "          google.colab.kernel.accessAllowed ? 'block' : 'none';\n",
              "\n",
              "        async function convertToInteractive(key) {\n",
              "          const element = document.querySelector('#df-37b07b14-1ff3-4bce-b77e-b0942140435e');\n",
              "          const dataTable =\n",
              "            await google.colab.kernel.invokeFunction('convertToInteractive',\n",
              "                                                     [key], {});\n",
              "          if (!dataTable) return;\n",
              "\n",
              "          const docLinkHtml = 'Like what you see? Visit the ' +\n",
              "            '<a target=\"_blank\" href=https://colab.research.google.com/notebooks/data_table.ipynb>data table notebook</a>'\n",
              "            + ' to learn more about interactive tables.';\n",
              "          element.innerHTML = '';\n",
              "          dataTable['output_type'] = 'display_data';\n",
              "          await google.colab.output.renderOutput(dataTable, element);\n",
              "          const docLink = document.createElement('div');\n",
              "          docLink.innerHTML = docLinkHtml;\n",
              "          element.appendChild(docLink);\n",
              "        }\n",
              "      </script>\n",
              "    </div>\n",
              "  </div>\n",
              "  "
            ]
          },
          "metadata": {},
          "execution_count": 7
        }
      ]
    },
    {
      "cell_type": "code",
      "source": [
        "X_train, X_test, y_train, y_test = model_selection.train_test_split(X, y, train_size=0.80, test_size=0.20, random_state=101)"
      ],
      "metadata": {
        "id": "KwstFn6DDQnz"
      },
      "execution_count": 8,
      "outputs": []
    },
    {
      "cell_type": "code",
      "source": [
        "rbf = svm.SVC(kernel='rbf', gamma=0.5, C=0.1).fit(X_train, y_train)\n",
        "poly = svm.SVC(kernel='poly', degree=3, C=1).fit(X_train, y_train)"
      ],
      "metadata": {
        "id": "uP0mRoPUDQqg"
      },
      "execution_count": 9,
      "outputs": []
    },
    {
      "cell_type": "code",
      "source": [
        "poly_pred = poly.predict(X_test)\n",
        "rbf_pred = rbf.predict(X_test)"
      ],
      "metadata": {
        "id": "_KnD3ofmDQtb"
      },
      "execution_count": 10,
      "outputs": []
    },
    {
      "cell_type": "code",
      "source": [
        "poly_accuracy = accuracy_score(y_test, poly_pred)\n",
        "poly_f1 = f1_score(y_test, poly_pred, average='weighted')\n",
        "print('Accuracy (Polynomial Kernel): ', \"%.2f\" % (poly_accuracy*100))\n",
        "print('F1 (Polynomial Kernel): ', \"%.2f\" % (poly_f1*100))"
      ],
      "metadata": {
        "colab": {
          "base_uri": "https://localhost:8080/"
        },
        "id": "1oB6SbteDQwp",
        "outputId": "37c9adf1-d0bc-45ef-ce6e-ede0ed8f108d"
      },
      "execution_count": 11,
      "outputs": [
        {
          "output_type": "stream",
          "name": "stdout",
          "text": [
            "Accuracy (Polynomial Kernel):  89.53\n",
            "F1 (Polynomial Kernel):  87.34\n"
          ]
        }
      ]
    },
    {
      "cell_type": "code",
      "source": [
        "rbf_accuracy = accuracy_score(y_test, rbf_pred)\n",
        "rbf_f1 = f1_score(y_test, rbf_pred, average='weighted')\n",
        "print('Accuracy (RBF Kernel): ', \"%.2f\" % (rbf_accuracy*100))\n",
        "print('F1 (RBF Kernel): ', \"%.2f\" % (rbf_f1*100))"
      ],
      "metadata": {
        "colab": {
          "base_uri": "https://localhost:8080/"
        },
        "id": "1v-_Ew_hDQzP",
        "outputId": "7ce9b0d2-4b10-4a46-9a36-9d49dfad6905"
      },
      "execution_count": 12,
      "outputs": [
        {
          "output_type": "stream",
          "name": "stdout",
          "text": [
            "Accuracy (RBF Kernel):  61.05\n",
            "F1 (RBF Kernel):  52.14\n"
          ]
        }
      ]
    },
    {
      "cell_type": "code",
      "source": [
        "from sklearn.metrics import classification_report"
      ],
      "metadata": {
        "id": "t1tp3uQUDQ2x"
      },
      "execution_count": 13,
      "outputs": []
    },
    {
      "cell_type": "code",
      "source": [
        "print(classification_report(y_test, poly_pred))"
      ],
      "metadata": {
        "colab": {
          "base_uri": "https://localhost:8080/"
        },
        "id": "6GKWPa2NEh1Q",
        "outputId": "8445df51-1996-4020-e9a0-e973f8572fc2"
      },
      "execution_count": 14,
      "outputs": [
        {
          "output_type": "stream",
          "name": "stdout",
          "text": [
            "              precision    recall  f1-score   support\n",
            "\n",
            "           1       0.00      0.00      0.00         1\n",
            "           2       0.00      0.00      0.00         5\n",
            "           3       0.85      0.98      0.91        52\n",
            "           5       1.00      0.40      0.57         5\n",
            "           6       0.93      0.96      0.95        84\n",
            "           7       0.87      0.83      0.85        24\n",
            "           8       0.00      0.00      0.00         1\n",
            "\n",
            "    accuracy                           0.90       172\n",
            "   macro avg       0.52      0.45      0.47       172\n",
            "weighted avg       0.86      0.90      0.87       172\n",
            "\n"
          ]
        },
        {
          "output_type": "stream",
          "name": "stderr",
          "text": [
            "/usr/local/lib/python3.7/dist-packages/sklearn/metrics/_classification.py:1318: UndefinedMetricWarning: Precision and F-score are ill-defined and being set to 0.0 in labels with no predicted samples. Use `zero_division` parameter to control this behavior.\n",
            "  _warn_prf(average, modifier, msg_start, len(result))\n",
            "/usr/local/lib/python3.7/dist-packages/sklearn/metrics/_classification.py:1318: UndefinedMetricWarning: Precision and F-score are ill-defined and being set to 0.0 in labels with no predicted samples. Use `zero_division` parameter to control this behavior.\n",
            "  _warn_prf(average, modifier, msg_start, len(result))\n",
            "/usr/local/lib/python3.7/dist-packages/sklearn/metrics/_classification.py:1318: UndefinedMetricWarning: Precision and F-score are ill-defined and being set to 0.0 in labels with no predicted samples. Use `zero_division` parameter to control this behavior.\n",
            "  _warn_prf(average, modifier, msg_start, len(result))\n"
          ]
        }
      ]
    },
    {
      "cell_type": "code",
      "source": [
        ""
      ],
      "metadata": {
        "id": "TEAZ49e1Eh3a"
      },
      "execution_count": null,
      "outputs": []
    },
    {
      "cell_type": "code",
      "source": [
        ""
      ],
      "metadata": {
        "id": "Ov67M2QSEh7J"
      },
      "execution_count": null,
      "outputs": []
    }
  ]
}